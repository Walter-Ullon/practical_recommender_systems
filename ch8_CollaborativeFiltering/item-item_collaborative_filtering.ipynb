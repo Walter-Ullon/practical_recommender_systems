{
 "cells": [
  {
   "cell_type": "code",
   "execution_count": 1,
   "id": "12fc9192-1e4b-4da5-9e91-55f0723221de",
   "metadata": {},
   "outputs": [],
   "source": [
    "import pandas as pd\n",
    "import numpy as np"
   ]
  },
  {
   "cell_type": "markdown",
   "id": "3a5f54d3-10f6-4f2f-8765-0503040c12cb",
   "metadata": {},
   "source": [
    "---\n",
    "### About this notebook:\n",
    "In this chapter we explore collaborative filtering, in particular item-item based CF."
   ]
  },
  {
   "cell_type": "markdown",
   "id": "2854dcab-cfab-4e44-8dd0-10f9bce1b3e0",
   "metadata": {},
   "source": [
    "---\n",
    "### Create toy dataset:\n",
    "(see page 189 of the text)"
   ]
  },
  {
   "cell_type": "code",
   "execution_count": 2,
   "id": "1d5e00eb-e930-4a52-b96a-905f34d05b5a",
   "metadata": {},
   "outputs": [
    {
     "data": {
      "text/html": [
       "<div>\n",
       "<style scoped>\n",
       "    .dataframe tbody tr th:only-of-type {\n",
       "        vertical-align: middle;\n",
       "    }\n",
       "\n",
       "    .dataframe tbody tr th {\n",
       "        vertical-align: top;\n",
       "    }\n",
       "\n",
       "    .dataframe thead th {\n",
       "        text-align: right;\n",
       "    }\n",
       "</style>\n",
       "<table border=\"1\" class=\"dataframe\">\n",
       "  <thead>\n",
       "    <tr style=\"text-align: right;\">\n",
       "      <th></th>\n",
       "      <th>MIB</th>\n",
       "      <th>ST</th>\n",
       "      <th>AV</th>\n",
       "      <th>BH</th>\n",
       "      <th>SS</th>\n",
       "      <th>LM</th>\n",
       "    </tr>\n",
       "    <tr>\n",
       "      <th>users</th>\n",
       "      <th></th>\n",
       "      <th></th>\n",
       "      <th></th>\n",
       "      <th></th>\n",
       "      <th></th>\n",
       "      <th></th>\n",
       "    </tr>\n",
       "  </thead>\n",
       "  <tbody>\n",
       "    <tr>\n",
       "      <th>Sara</th>\n",
       "      <td>5</td>\n",
       "      <td>3</td>\n",
       "      <td>NaN</td>\n",
       "      <td>2.0</td>\n",
       "      <td>2</td>\n",
       "      <td>2</td>\n",
       "    </tr>\n",
       "    <tr>\n",
       "      <th>Jesper</th>\n",
       "      <td>4</td>\n",
       "      <td>3</td>\n",
       "      <td>4.0</td>\n",
       "      <td>NaN</td>\n",
       "      <td>3</td>\n",
       "      <td>3</td>\n",
       "    </tr>\n",
       "    <tr>\n",
       "      <th>Therese</th>\n",
       "      <td>5</td>\n",
       "      <td>2</td>\n",
       "      <td>5.0</td>\n",
       "      <td>2.0</td>\n",
       "      <td>1</td>\n",
       "      <td>1</td>\n",
       "    </tr>\n",
       "    <tr>\n",
       "      <th>Helle</th>\n",
       "      <td>3</td>\n",
       "      <td>5</td>\n",
       "      <td>3.0</td>\n",
       "      <td>NaN</td>\n",
       "      <td>1</td>\n",
       "      <td>1</td>\n",
       "    </tr>\n",
       "    <tr>\n",
       "      <th>Pietro</th>\n",
       "      <td>3</td>\n",
       "      <td>3</td>\n",
       "      <td>3.0</td>\n",
       "      <td>2.0</td>\n",
       "      <td>4</td>\n",
       "      <td>5</td>\n",
       "    </tr>\n",
       "    <tr>\n",
       "      <th>Ekaterina</th>\n",
       "      <td>2</td>\n",
       "      <td>3</td>\n",
       "      <td>2.0</td>\n",
       "      <td>3.0</td>\n",
       "      <td>5</td>\n",
       "      <td>5</td>\n",
       "    </tr>\n",
       "  </tbody>\n",
       "</table>\n",
       "</div>"
      ],
      "text/plain": [
       "           MIB  ST   AV   BH  SS  LM\n",
       "users                               \n",
       "Sara         5   3  NaN  2.0   2   2\n",
       "Jesper       4   3  4.0  NaN   3   3\n",
       "Therese      5   2  5.0  2.0   1   1\n",
       "Helle        3   5  3.0  NaN   1   1\n",
       "Pietro       3   3  3.0  2.0   4   5\n",
       "Ekaterina    2   3  2.0  3.0   5   5"
      ]
     },
     "execution_count": 2,
     "metadata": {},
     "output_type": "execute_result"
    }
   ],
   "source": [
    "toy_df = pd.DataFrame({'users':['Sara', 'Jesper', 'Therese', 'Helle', 'Pietro', 'Ekaterina'],\n",
    "                      'MIB':[5, 4, 5, 3, 3, 2],\n",
    "                      'ST':[3, 3, 2, 5, 3, 3],\n",
    "                      'AV':[np.nan, 4, 5, 3, 3, 2],\n",
    "                      'BH':[2, np.nan, 2, np.nan, 2, 3],\n",
    "                      'SS':[2, 3, 1, 1, 4, 5],\n",
    "                      'LM':[2, 3, 1, 1, 5, 5]})\n",
    "toy_df = toy_df.set_index('users')\n",
    "toy_df"
   ]
  },
  {
   "cell_type": "markdown",
   "id": "ec44931f-d4e0-48da-8a4c-4a076da3265f",
   "metadata": {},
   "source": [
    "---\n",
    "### Normalize each movie's rating:"
   ]
  },
  {
   "cell_type": "code",
   "execution_count": 3,
   "id": "6d3ad25f-aa76-4970-be22-2853e0e751e5",
   "metadata": {},
   "outputs": [
    {
     "data": {
      "text/plain": [
       "users\n",
       "Sara         2.800000\n",
       "Jesper       3.400000\n",
       "Therese      2.666667\n",
       "Helle        2.600000\n",
       "Pietro       3.333333\n",
       "Ekaterina    3.333333\n",
       "dtype: float64"
      ]
     },
     "execution_count": 3,
     "metadata": {},
     "output_type": "execute_result"
    }
   ],
   "source": [
    "# first, find the average rating for all users\n",
    "toy_df.mean(axis=1)"
   ]
  },
  {
   "cell_type": "code",
   "execution_count": 4,
   "id": "4b594d94-c7f6-4086-8ad3-465bc0b8a231",
   "metadata": {},
   "outputs": [
    {
     "data": {
      "text/html": [
       "<div>\n",
       "<style scoped>\n",
       "    .dataframe tbody tr th:only-of-type {\n",
       "        vertical-align: middle;\n",
       "    }\n",
       "\n",
       "    .dataframe tbody tr th {\n",
       "        vertical-align: top;\n",
       "    }\n",
       "\n",
       "    .dataframe thead th {\n",
       "        text-align: right;\n",
       "    }\n",
       "</style>\n",
       "<table border=\"1\" class=\"dataframe\">\n",
       "  <thead>\n",
       "    <tr style=\"text-align: right;\">\n",
       "      <th>users</th>\n",
       "      <th>Sara</th>\n",
       "      <th>Jesper</th>\n",
       "      <th>Therese</th>\n",
       "      <th>Helle</th>\n",
       "      <th>Pietro</th>\n",
       "      <th>Ekaterina</th>\n",
       "    </tr>\n",
       "  </thead>\n",
       "  <tbody>\n",
       "    <tr>\n",
       "      <th>MIB</th>\n",
       "      <td>2.2</td>\n",
       "      <td>0.6</td>\n",
       "      <td>2.33</td>\n",
       "      <td>0.4</td>\n",
       "      <td>-0.33</td>\n",
       "      <td>-1.33</td>\n",
       "    </tr>\n",
       "    <tr>\n",
       "      <th>ST</th>\n",
       "      <td>0.2</td>\n",
       "      <td>-0.4</td>\n",
       "      <td>-0.67</td>\n",
       "      <td>2.4</td>\n",
       "      <td>-0.33</td>\n",
       "      <td>-0.33</td>\n",
       "    </tr>\n",
       "    <tr>\n",
       "      <th>AV</th>\n",
       "      <td>NaN</td>\n",
       "      <td>0.6</td>\n",
       "      <td>2.33</td>\n",
       "      <td>0.4</td>\n",
       "      <td>-0.33</td>\n",
       "      <td>-1.33</td>\n",
       "    </tr>\n",
       "    <tr>\n",
       "      <th>BH</th>\n",
       "      <td>-0.8</td>\n",
       "      <td>NaN</td>\n",
       "      <td>-0.67</td>\n",
       "      <td>NaN</td>\n",
       "      <td>-1.33</td>\n",
       "      <td>-0.33</td>\n",
       "    </tr>\n",
       "    <tr>\n",
       "      <th>SS</th>\n",
       "      <td>-0.8</td>\n",
       "      <td>-0.4</td>\n",
       "      <td>-1.67</td>\n",
       "      <td>-1.6</td>\n",
       "      <td>0.67</td>\n",
       "      <td>1.67</td>\n",
       "    </tr>\n",
       "    <tr>\n",
       "      <th>LM</th>\n",
       "      <td>-0.8</td>\n",
       "      <td>-0.4</td>\n",
       "      <td>-1.67</td>\n",
       "      <td>-1.6</td>\n",
       "      <td>1.67</td>\n",
       "      <td>1.67</td>\n",
       "    </tr>\n",
       "  </tbody>\n",
       "</table>\n",
       "</div>"
      ],
      "text/plain": [
       "users  Sara  Jesper  Therese  Helle  Pietro  Ekaterina\n",
       "MIB     2.2     0.6     2.33    0.4   -0.33      -1.33\n",
       "ST      0.2    -0.4    -0.67    2.4   -0.33      -0.33\n",
       "AV      NaN     0.6     2.33    0.4   -0.33      -1.33\n",
       "BH     -0.8     NaN    -0.67    NaN   -1.33      -0.33\n",
       "SS     -0.8    -0.4    -1.67   -1.6    0.67       1.67\n",
       "LM     -0.8    -0.4    -1.67   -1.6    1.67       1.67"
      ]
     },
     "execution_count": 4,
     "metadata": {},
     "output_type": "execute_result"
    }
   ],
   "source": [
    "# transpose the original df to make it easy to normalize the correct values:\n",
    "normalized_t = toy_df.transpose() - np.round(toy_df.mean(axis=1), 2)\n",
    "normalized_t"
   ]
  },
  {
   "cell_type": "code",
   "execution_count": 5,
   "id": "729675c5-f27e-46e0-9af3-9beec0fc1339",
   "metadata": {},
   "outputs": [
    {
     "data": {
      "text/html": [
       "<div>\n",
       "<style scoped>\n",
       "    .dataframe tbody tr th:only-of-type {\n",
       "        vertical-align: middle;\n",
       "    }\n",
       "\n",
       "    .dataframe tbody tr th {\n",
       "        vertical-align: top;\n",
       "    }\n",
       "\n",
       "    .dataframe thead th {\n",
       "        text-align: right;\n",
       "    }\n",
       "</style>\n",
       "<table border=\"1\" class=\"dataframe\">\n",
       "  <thead>\n",
       "    <tr style=\"text-align: right;\">\n",
       "      <th></th>\n",
       "      <th>MIB</th>\n",
       "      <th>ST</th>\n",
       "      <th>AV</th>\n",
       "      <th>BH</th>\n",
       "      <th>SS</th>\n",
       "      <th>LM</th>\n",
       "    </tr>\n",
       "    <tr>\n",
       "      <th>users</th>\n",
       "      <th></th>\n",
       "      <th></th>\n",
       "      <th></th>\n",
       "      <th></th>\n",
       "      <th></th>\n",
       "      <th></th>\n",
       "    </tr>\n",
       "  </thead>\n",
       "  <tbody>\n",
       "    <tr>\n",
       "      <th>Sara</th>\n",
       "      <td>2.20</td>\n",
       "      <td>0.20</td>\n",
       "      <td>NaN</td>\n",
       "      <td>-0.80</td>\n",
       "      <td>-0.80</td>\n",
       "      <td>-0.80</td>\n",
       "    </tr>\n",
       "    <tr>\n",
       "      <th>Jesper</th>\n",
       "      <td>0.60</td>\n",
       "      <td>-0.40</td>\n",
       "      <td>0.60</td>\n",
       "      <td>NaN</td>\n",
       "      <td>-0.40</td>\n",
       "      <td>-0.40</td>\n",
       "    </tr>\n",
       "    <tr>\n",
       "      <th>Therese</th>\n",
       "      <td>2.33</td>\n",
       "      <td>-0.67</td>\n",
       "      <td>2.33</td>\n",
       "      <td>-0.67</td>\n",
       "      <td>-1.67</td>\n",
       "      <td>-1.67</td>\n",
       "    </tr>\n",
       "    <tr>\n",
       "      <th>Helle</th>\n",
       "      <td>0.40</td>\n",
       "      <td>2.40</td>\n",
       "      <td>0.40</td>\n",
       "      <td>NaN</td>\n",
       "      <td>-1.60</td>\n",
       "      <td>-1.60</td>\n",
       "    </tr>\n",
       "    <tr>\n",
       "      <th>Pietro</th>\n",
       "      <td>-0.33</td>\n",
       "      <td>-0.33</td>\n",
       "      <td>-0.33</td>\n",
       "      <td>-1.33</td>\n",
       "      <td>0.67</td>\n",
       "      <td>1.67</td>\n",
       "    </tr>\n",
       "    <tr>\n",
       "      <th>Ekaterina</th>\n",
       "      <td>-1.33</td>\n",
       "      <td>-0.33</td>\n",
       "      <td>-1.33</td>\n",
       "      <td>-0.33</td>\n",
       "      <td>1.67</td>\n",
       "      <td>1.67</td>\n",
       "    </tr>\n",
       "  </tbody>\n",
       "</table>\n",
       "</div>"
      ],
      "text/plain": [
       "            MIB    ST    AV    BH    SS    LM\n",
       "users                                        \n",
       "Sara       2.20  0.20   NaN -0.80 -0.80 -0.80\n",
       "Jesper     0.60 -0.40  0.60   NaN -0.40 -0.40\n",
       "Therese    2.33 -0.67  2.33 -0.67 -1.67 -1.67\n",
       "Helle      0.40  2.40  0.40   NaN -1.60 -1.60\n",
       "Pietro    -0.33 -0.33 -0.33 -1.33  0.67  1.67\n",
       "Ekaterina -1.33 -0.33 -1.33 -0.33  1.67  1.67"
      ]
     },
     "execution_count": 5,
     "metadata": {},
     "output_type": "execute_result"
    }
   ],
   "source": [
    "# return the transposed dataframe to its original axes\n",
    "normalized_df = normalized_t.transpose()\n",
    "normalized_df"
   ]
  },
  {
   "cell_type": "markdown",
   "id": "0c8232de-50c5-4cfc-b0f1-62728cf4b358",
   "metadata": {},
   "source": [
    "**Note:** the matrix above matches the one shown on table 8.3 on page 191"
   ]
  },
  {
   "cell_type": "markdown",
   "id": "f401fcce-ddbc-4f3c-b714-1df61f47ac8f",
   "metadata": {},
   "source": [
    "---\n",
    "### Define the item-item function:"
   ]
  },
  {
   "cell_type": "code",
   "execution_count": 6,
   "id": "c1a618f2-d0a0-4539-aae1-fd35677973b0",
   "metadata": {},
   "outputs": [],
   "source": [
    "def item_item_similarity(ratings_df, item_1, item_2):\n",
    "    # normalize the ratings data:\n",
    "    normalized_t = ratings_df.transpose() - np.round(ratings_df.mean(axis=1), 2)\n",
    "    normalized_df = normalized_t.transpose()\n",
    "    # normalized_df = normalized_df.fillna(0)\n",
    "    \n",
    "    # calculate numerator and denominator:\n",
    "    numerator = np.sum(normalized_df[item_1]*normalized_df[item_2])\n",
    "    denominator = np.sqrt(np.sum(normalized_df[item_1]**2))*np.sqrt(np.sum(normalized_df[item_2]**2))\n",
    "    \n",
    "    # define the adjusted cosine similarity:\n",
    "    adjusted_cosine_sim = np.round(numerator / denominator, 3)\n",
    "    \n",
    "    return adjusted_cosine_sim"
   ]
  },
  {
   "cell_type": "code",
   "execution_count": 7,
   "id": "27d936e6-f12d-4256-a7bd-654b8dc11810",
   "metadata": {},
   "outputs": [
    {
     "data": {
      "text/plain": [
       "0.016"
      ]
     },
     "execution_count": 7,
     "metadata": {},
     "output_type": "execute_result"
    }
   ],
   "source": [
    "item_item_similarity(toy_df, 'MIB', 'ST')"
   ]
  },
  {
   "cell_type": "markdown",
   "id": "9a3a6279-5f4e-44b5-87e5-f5b806da98ce",
   "metadata": {},
   "source": [
    "**Note:** while the results here agree with the main example in the text, some of the values shown on page 192 on table 8.4 do not. I have carried out the calculations as shown on the text on excel and verified that the results obtained using the function given above are in fact correct. "
   ]
  },
  {
   "cell_type": "markdown",
   "id": "d3e1a809-c0de-4aa3-a6f5-79f5661d3542",
   "metadata": {},
   "source": [
    "---\n",
    "### Serving Predictions:\n",
    "The function below finds the highest rated neighbors (closest items) based on a similarity threshold value."
   ]
  },
  {
   "cell_type": "code",
   "execution_count": 8,
   "id": "ac6631df-3343-431d-adf0-61d8b71249af",
   "metadata": {},
   "outputs": [],
   "source": [
    "def find_neighborhood_thresh(ratings_df, target_item, thresh):\n",
    "    # set list to hold item-rating tuples:\n",
    "    sims = []\n",
    "    \n",
    "    # calculate similarities:\n",
    "    for item in toy_df.columns:\n",
    "        if item != target_item:\n",
    "            sim = item_item_similarity(ratings_df, target_item, item)\n",
    "            # apply threshold:\n",
    "            if sim >= thresh:\n",
    "                sims.append((item, sim))\n",
    "            \n",
    "    # convert tuples to df and sort by score:\n",
    "    df = pd.DataFrame(sims, columns=['item', 'similarity_score']).set_index('item')\n",
    "    neighborhood_df = df.sort_values(by='similarity_score', ascending=False) \n",
    "    \n",
    "    return neighborhood_df\n",
    "    "
   ]
  },
  {
   "cell_type": "code",
   "execution_count": 9,
   "id": "2b089841-d0e4-4c5a-aa03-a0f1f5bcaca8",
   "metadata": {},
   "outputs": [
    {
     "data": {
      "text/html": [
       "<div>\n",
       "<style scoped>\n",
       "    .dataframe tbody tr th:only-of-type {\n",
       "        vertical-align: middle;\n",
       "    }\n",
       "\n",
       "    .dataframe tbody tr th {\n",
       "        vertical-align: top;\n",
       "    }\n",
       "\n",
       "    .dataframe thead th {\n",
       "        text-align: right;\n",
       "    }\n",
       "</style>\n",
       "<table border=\"1\" class=\"dataframe\">\n",
       "  <thead>\n",
       "    <tr style=\"text-align: right;\">\n",
       "      <th></th>\n",
       "      <th>similarity_score</th>\n",
       "    </tr>\n",
       "    <tr>\n",
       "      <th>item</th>\n",
       "      <th></th>\n",
       "    </tr>\n",
       "  </thead>\n",
       "  <tbody>\n",
       "    <tr>\n",
       "      <th>BH</th>\n",
       "      <td>0.189</td>\n",
       "    </tr>\n",
       "    <tr>\n",
       "      <th>MIB</th>\n",
       "      <td>0.016</td>\n",
       "    </tr>\n",
       "  </tbody>\n",
       "</table>\n",
       "</div>"
      ],
      "text/plain": [
       "      similarity_score\n",
       "item                  \n",
       "BH               0.189\n",
       "MIB              0.016"
      ]
     },
     "execution_count": 9,
     "metadata": {},
     "output_type": "execute_result"
    }
   ],
   "source": [
    "# closes items in terms of similarity:\n",
    "find_neighborhood_thresh(ratings_df=toy_df, target_item='ST', thresh=0.01)"
   ]
  },
  {
   "cell_type": "markdown",
   "id": "c5d3d755-7067-45fd-8481-53649349565d",
   "metadata": {},
   "source": [
    "---\n",
    "### Define Prediction Fucntion:\n",
    "The function below, uses the similarity of the neighbor items, plus the (noramlized) user's rating for those to predict the rating for a target item."
   ]
  },
  {
   "cell_type": "code",
   "execution_count": 10,
   "id": "da61446d-54ba-4951-8e77-7754243e4288",
   "metadata": {},
   "outputs": [],
   "source": [
    "def predict_item_rating_for_user(ratings_df, target_user, target_item, thresh):\n",
    "    # get user's mean rating:\n",
    "    mean_rating_df = ratings_df.mean(axis=1).to_frame().reset_index()\n",
    "    user_mean_rating = mean_rating_df[mean_rating_df['users']==target_user][0].item()\n",
    "    \n",
    "    # find the neighborhood of items with scores above threshold for target item:\n",
    "    neighbors_df = find_neighborhood_thresh(ratings_df=toy_df, target_item='ST', thresh=0.01).fillna(0)\n",
    "    item_neighbors_sims = neighbors_df.values.reshape(1,2)[0]\n",
    "    \n",
    "    # get target user ratings for neighbor items:\n",
    "    neighbors_lst = neighbors_df.index.tolist()\n",
    "    user_neighbors_ratings = ratings_df[neighbors_lst].loc[target_user].fillna(0).values\n",
    "    \n",
    "    # compute predictions:\n",
    "    prediction = np.round(user_mean_rating + (np.sum(item_neighbors_sims*user_neighbors_ratings))/(np.sum(item_neighbors_sims)), 2)\n",
    "    \n",
    "    return prediction"
   ]
  },
  {
   "cell_type": "code",
   "execution_count": 11,
   "id": "bcf4c250-c5ec-45b5-9b8c-a4498794f99c",
   "metadata": {},
   "outputs": [
    {
     "data": {
      "text/plain": [
       "2.83"
      ]
     },
     "execution_count": 11,
     "metadata": {},
     "output_type": "execute_result"
    }
   ],
   "source": [
    "predict_item_rating_for_user(ratings_df=toy_df, target_user='Helle', target_item='ST', thresh=0.01)"
   ]
  },
  {
   "cell_type": "markdown",
   "id": "d1b05dcc-469c-4673-9826-7e2c2ad4f00b",
   "metadata": {},
   "source": [
    "---\n"
   ]
  },
  {
   "cell_type": "markdown",
   "id": "bbb07516-637f-4ab1-848e-d59622c43d94",
   "metadata": {},
   "source": [
    "Unfortunately, we cannot test the similarity values from the functions above against the value obtained by the author in the table named \"similarity\" since the dataset is too large to pivot."
   ]
  }
 ],
 "metadata": {
  "kernelspec": {
   "display_name": "Python 3 (ipykernel)",
   "language": "python",
   "name": "python3"
  },
  "language_info": {
   "codemirror_mode": {
    "name": "ipython",
    "version": 3
   },
   "file_extension": ".py",
   "mimetype": "text/x-python",
   "name": "python",
   "nbconvert_exporter": "python",
   "pygments_lexer": "ipython3",
   "version": "3.7.9"
  }
 },
 "nbformat": 4,
 "nbformat_minor": 5
}
