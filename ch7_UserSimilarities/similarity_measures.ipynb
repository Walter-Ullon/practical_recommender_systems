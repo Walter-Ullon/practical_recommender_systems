{
 "cells": [
  {
   "cell_type": "code",
   "execution_count": 1,
   "id": "fea0826e-c6a1-4f7b-b33f-9c6f8ee74797",
   "metadata": {},
   "outputs": [],
   "source": [
    "import pandas as pd\n",
    "import numpy as np"
   ]
  },
  {
   "cell_type": "markdown",
   "id": "b2706466-f12a-4782-b65d-64546ba146f6",
   "metadata": {},
   "source": [
    "---\n",
    "### About this chapter: \n",
    "The purpose of this notebook is to implement user similarities using Pearson and Jaccard measures."
   ]
  },
  {
   "cell_type": "markdown",
   "id": "bd450359-a223-427a-95c5-9f5c95fcba7f",
   "metadata": {},
   "source": [
    "---\n",
    "### Step 1 - Import data:"
   ]
  },
  {
   "cell_type": "code",
   "execution_count": 2,
   "id": "06a77c7c-cefd-4137-8a5f-792d219cb412",
   "metadata": {},
   "outputs": [
    {
     "data": {
      "text/html": [
       "<div>\n",
       "<style scoped>\n",
       "    .dataframe tbody tr th:only-of-type {\n",
       "        vertical-align: middle;\n",
       "    }\n",
       "\n",
       "    .dataframe tbody tr th {\n",
       "        vertical-align: top;\n",
       "    }\n",
       "\n",
       "    .dataframe thead th {\n",
       "        text-align: right;\n",
       "    }\n",
       "</style>\n",
       "<table border=\"1\" class=\"dataframe\">\n",
       "  <thead>\n",
       "    <tr style=\"text-align: right;\">\n",
       "      <th></th>\n",
       "      <th>id</th>\n",
       "      <th>user_id</th>\n",
       "      <th>movie_id</th>\n",
       "      <th>rating</th>\n",
       "      <th>rating_timestamp</th>\n",
       "      <th>type</th>\n",
       "    </tr>\n",
       "  </thead>\n",
       "  <tbody>\n",
       "    <tr>\n",
       "      <th>0</th>\n",
       "      <td>517025</td>\n",
       "      <td>40679</td>\n",
       "      <td>3890160</td>\n",
       "      <td>10.0</td>\n",
       "      <td>2017-09-12 22:20:49-04</td>\n",
       "      <td>explicit</td>\n",
       "    </tr>\n",
       "    <tr>\n",
       "      <th>1</th>\n",
       "      <td>517026</td>\n",
       "      <td>40679</td>\n",
       "      <td>4034228</td>\n",
       "      <td>8.0</td>\n",
       "      <td>2017-02-17 01:00:48-05</td>\n",
       "      <td>explicit</td>\n",
       "    </tr>\n",
       "    <tr>\n",
       "      <th>2</th>\n",
       "      <td>517027</td>\n",
       "      <td>40679</td>\n",
       "      <td>4540710</td>\n",
       "      <td>8.0</td>\n",
       "      <td>2017-03-29 09:37:45-04</td>\n",
       "      <td>explicit</td>\n",
       "    </tr>\n",
       "    <tr>\n",
       "      <th>3</th>\n",
       "      <td>517028</td>\n",
       "      <td>40679</td>\n",
       "      <td>4550098</td>\n",
       "      <td>8.0</td>\n",
       "      <td>2017-02-17 02:50:43-05</td>\n",
       "      <td>explicit</td>\n",
       "    </tr>\n",
       "    <tr>\n",
       "      <th>4</th>\n",
       "      <td>517029</td>\n",
       "      <td>40679</td>\n",
       "      <td>4633694</td>\n",
       "      <td>7.0</td>\n",
       "      <td>2019-02-25 14:01:52-05</td>\n",
       "      <td>explicit</td>\n",
       "    </tr>\n",
       "  </tbody>\n",
       "</table>\n",
       "</div>"
      ],
      "text/plain": [
       "       id  user_id  movie_id  rating        rating_timestamp      type\n",
       "0  517025    40679   3890160    10.0  2017-09-12 22:20:49-04  explicit\n",
       "1  517026    40679   4034228     8.0  2017-02-17 01:00:48-05  explicit\n",
       "2  517027    40679   4540710     8.0  2017-03-29 09:37:45-04  explicit\n",
       "3  517028    40679   4550098     8.0  2017-02-17 02:50:43-05  explicit\n",
       "4  517029    40679   4633694     7.0  2019-02-25 14:01:52-05  explicit"
      ]
     },
     "execution_count": 2,
     "metadata": {},
     "output_type": "execute_result"
    }
   ],
   "source": [
    "user_ratings_df = pd.read_csv('data/user_ratings.csv')\n",
    "user_ratings_df.head(5)"
   ]
  },
  {
   "cell_type": "markdown",
   "id": "e873241a-409f-49d4-b55d-f92d87fc3595",
   "metadata": {},
   "source": [
    "---\n",
    "### Define Pearson Similarity function:\n",
    "See page 162 and 174 of the text for a different implementation."
   ]
  },
  {
   "cell_type": "code",
   "execution_count": 4,
   "id": "03173394-c2b2-4f8c-8f66-6d32d7cee7dd",
   "metadata": {},
   "outputs": [],
   "source": [
    "# gets pearson similarity between two users based on their ratings:\n",
    "def pearson_sim(user_ratings, user_a, user_b):\n",
    "    # get the mean ratings for each user and standardize the score against it:\n",
    "    user_ratings['mean_rating'] = user_ratings.groupby('user_id')['rating'].transform('mean')\n",
    "    user_ratings['standardized_rating'] = user_ratings['rating'] - user_ratings['mean_rating']\n",
    "    \n",
    "    # get each individual user's ratings:\n",
    "    user_a_ratings_df = user_ratings[user_ratings['user_id'] == user_a]\n",
    "    user_b_ratings_df = user_ratings[user_ratings['user_id'] == user_b]\n",
    "    \n",
    "    # inner join each dataframe on the \"rated items\" to get the common items between both:\n",
    "    joined_df = pd.merge(left=user_a_ratings_df,\n",
    "                        right=user_b_ratings_df,\n",
    "                        how='inner',\n",
    "                        left_on='movie_id',\n",
    "                        right_on='movie_id',\n",
    "                        suffixes=['_a', '_b'])\n",
    "    \n",
    "    # calculate denomiators and numerators according to the formula:\n",
    "    normalized_rating_a = joined_df['standardized_rating_a']\n",
    "    normalized_rating_b = joined_df['standardized_rating_b']\n",
    "    numerator = sum(normalized_rating_a*normalized_rating_b)\n",
    "    denominator = np.sqrt(sum(normalized_rating_a**2))*np.sqrt(sum(normalized_rating_b**2))\n",
    "    pearson_sim = np.round(numerator/denominator, 2)\n",
    "    \n",
    "    return pearson_sim"
   ]
  },
  {
   "cell_type": "code",
   "execution_count": 6,
   "id": "67046a71-35d1-4442-9fdd-5e26a8a35c0d",
   "metadata": {},
   "outputs": [
    {
     "data": {
      "text/plain": [
       "0.88"
      ]
     },
     "execution_count": 6,
     "metadata": {},
     "output_type": "execute_result"
    }
   ],
   "source": [
    "pearson_sim(user_ratings_df, 400002, 63767)"
   ]
  },
  {
   "cell_type": "markdown",
   "id": "72f7aeeb-444b-4109-a9c6-40ec4d5f0791",
   "metadata": {},
   "source": [
    "Note: the scores above check out with the output of the moviegeeks website. "
   ]
  },
  {
   "cell_type": "markdown",
   "id": "aafbded4-b37b-4297-944b-6e25645157fe",
   "metadata": {},
   "source": [
    "---\n",
    "### Define Jaccard Similarity function:"
   ]
  },
  {
   "cell_type": "code",
   "execution_count": 23,
   "id": "72493833-c03a-4b24-8566-eb05a96fd7e0",
   "metadata": {},
   "outputs": [],
   "source": [
    "def jaccard_sim(user_ratings, user_a, user_b):\n",
    "    # get sets of movies for each user:\n",
    "    user_a_rated_items = set(user_ratings[user_ratings['user_id']==user_a]['movie_id'])\n",
    "    user_b_rated_items = set(user_ratings[user_ratings['user_id']==user_b]['movie_id'])\n",
    "    \n",
    "    # get intersection of both sets (items both users have rated):\n",
    "    items_intersection = user_a_rated_items & user_b_rated_items\n",
    "    \n",
    "    # get union of both sets (items either or both users have rated):\n",
    "    items_union = user_a_rated_items | user_b_rated_items\n",
    "    \n",
    "    # calculate similarity\n",
    "    jaccard_sim = np.round(len(items_intersection) / len(items_union), 2)\n",
    "    \n",
    "    return jaccard_sim"
   ]
  },
  {
   "cell_type": "code",
   "execution_count": 26,
   "id": "b32a83df-7a27-478c-af7e-12f544b1a8e1",
   "metadata": {},
   "outputs": [
    {
     "data": {
      "text/plain": [
       "0.28"
      ]
     },
     "execution_count": 26,
     "metadata": {},
     "output_type": "execute_result"
    }
   ],
   "source": [
    "jaccard_sim(user_ratings_df, 400002, 1157)"
   ]
  },
  {
   "cell_type": "markdown",
   "id": "338e2604-a84c-47df-bdf7-11c1ac404c07",
   "metadata": {},
   "source": [
    "Note: the scores above check out with the output of the moviegeeks website. "
   ]
  },
  {
   "cell_type": "markdown",
   "id": "710b5684-b418-453e-972c-684cb9072d94",
   "metadata": {},
   "source": [
    "---\n",
    "**Note:** because Pearson similarity takes ratings into consideration during calculations, the similarity measure returned is in effect as measure of \"taste similarity\" or \"rating behavior\" similarity. The advantage of this is that once we calculate scores, we can use said scores to find out which items one user has rated/watched that the other hasn't and then recommend them to the user (set difference). Moreover, we can use either user's rating to estimate how the other user will rate the recommended movies.\n",
    "\n",
    "On the other hand, the Jaccard similarity, because is a unary measure, only takes into account which movies the users being compared have watched/bought, regardless of their ratings for them. Because of this, we can say that the Jaccard measure is in effect a measure of the \"consumption\" similarity between users. "
   ]
  }
 ],
 "metadata": {
  "kernelspec": {
   "display_name": "Python 3 (ipykernel)",
   "language": "python",
   "name": "python3"
  },
  "language_info": {
   "codemirror_mode": {
    "name": "ipython",
    "version": 3
   },
   "file_extension": ".py",
   "mimetype": "text/x-python",
   "name": "python",
   "nbconvert_exporter": "python",
   "pygments_lexer": "ipython3",
   "version": "3.7.9"
  }
 },
 "nbformat": 4,
 "nbformat_minor": 5
}
