{
 "cells": [
  {
   "cell_type": "code",
   "execution_count": 2,
   "id": "5e2189f1-90b8-4c17-997c-4f65bb114411",
   "metadata": {},
   "outputs": [],
   "source": [
    "import pandas as pd\n",
    "import plotly.express as px\n",
    "import numpy as np\n",
    "import random as rd\n",
    "from sklearn.cluster import KMeans"
   ]
  },
  {
   "cell_type": "markdown",
   "id": "97d920fc-a63f-4053-a32c-339a54edeaf6",
   "metadata": {},
   "source": [
    "---\n",
    "### About this notebook:\n",
    "The purpose of this notebook is to implement K-means clusterign to the moviegeeks dataset in order to split customers into 22 clusters as shown on page 179 of the text. This will allow us to speed up recommendation computations by only selecting users that belong to the same cluster and the target user."
   ]
  },
  {
   "cell_type": "markdown",
   "id": "919e2efa-6c36-44af-864f-c1998e54c40a",
   "metadata": {},
   "source": [
    "---\n",
    "### Import dataset:"
   ]
  },
  {
   "cell_type": "code",
   "execution_count": 48,
   "id": "ccf1fd7b-f060-42fb-968f-aed4f89fbdbf",
   "metadata": {},
   "outputs": [
    {
     "data": {
      "text/html": [
       "<div>\n",
       "<style scoped>\n",
       "    .dataframe tbody tr th:only-of-type {\n",
       "        vertical-align: middle;\n",
       "    }\n",
       "\n",
       "    .dataframe tbody tr th {\n",
       "        vertical-align: top;\n",
       "    }\n",
       "\n",
       "    .dataframe thead th {\n",
       "        text-align: right;\n",
       "    }\n",
       "</style>\n",
       "<table border=\"1\" class=\"dataframe\">\n",
       "  <thead>\n",
       "    <tr style=\"text-align: right;\">\n",
       "      <th></th>\n",
       "      <th>user_id</th>\n",
       "      <th>movie_id</th>\n",
       "      <th>rating</th>\n",
       "    </tr>\n",
       "  </thead>\n",
       "  <tbody>\n",
       "    <tr>\n",
       "      <th>38088</th>\n",
       "      <td>43471</td>\n",
       "      <td>8</td>\n",
       "      <td>5.0</td>\n",
       "    </tr>\n",
       "    <tr>\n",
       "      <th>399426</th>\n",
       "      <td>71498</td>\n",
       "      <td>10</td>\n",
       "      <td>10.0</td>\n",
       "    </tr>\n",
       "    <tr>\n",
       "      <th>386069</th>\n",
       "      <td>70439</td>\n",
       "      <td>12</td>\n",
       "      <td>10.0</td>\n",
       "    </tr>\n",
       "    <tr>\n",
       "      <th>891143</th>\n",
       "      <td>38130</td>\n",
       "      <td>25</td>\n",
       "      <td>8.0</td>\n",
       "    </tr>\n",
       "    <tr>\n",
       "      <th>189843</th>\n",
       "      <td>55201</td>\n",
       "      <td>91</td>\n",
       "      <td>7.0</td>\n",
       "    </tr>\n",
       "    <tr>\n",
       "      <th>...</th>\n",
       "      <td>...</td>\n",
       "      <td>...</td>\n",
       "      <td>...</td>\n",
       "    </tr>\n",
       "    <tr>\n",
       "      <th>125167</th>\n",
       "      <td>50282</td>\n",
       "      <td>15711402</td>\n",
       "      <td>6.0</td>\n",
       "    </tr>\n",
       "    <tr>\n",
       "      <th>477535</th>\n",
       "      <td>5608</td>\n",
       "      <td>15831978</td>\n",
       "      <td>7.0</td>\n",
       "    </tr>\n",
       "    <tr>\n",
       "      <th>66754</th>\n",
       "      <td>45682</td>\n",
       "      <td>15839820</td>\n",
       "      <td>7.0</td>\n",
       "    </tr>\n",
       "    <tr>\n",
       "      <th>409376</th>\n",
       "      <td>279</td>\n",
       "      <td>15842076</td>\n",
       "      <td>10.0</td>\n",
       "    </tr>\n",
       "    <tr>\n",
       "      <th>409377</th>\n",
       "      <td>279</td>\n",
       "      <td>16058736</td>\n",
       "      <td>10.0</td>\n",
       "    </tr>\n",
       "  </tbody>\n",
       "</table>\n",
       "<p>921893 rows × 3 columns</p>\n",
       "</div>"
      ],
      "text/plain": [
       "        user_id  movie_id  rating\n",
       "38088     43471         8     5.0\n",
       "399426    71498        10    10.0\n",
       "386069    70439        12    10.0\n",
       "891143    38130        25     8.0\n",
       "189843    55201        91     7.0\n",
       "...         ...       ...     ...\n",
       "125167    50282  15711402     6.0\n",
       "477535     5608  15831978     7.0\n",
       "66754     45682  15839820     7.0\n",
       "409376      279  15842076    10.0\n",
       "409377      279  16058736    10.0\n",
       "\n",
       "[921893 rows x 3 columns]"
      ]
     },
     "execution_count": 48,
     "metadata": {},
     "output_type": "execute_result"
    }
   ],
   "source": [
    "user_ratings_df = pd.read_csv('data/user_ratings.csv')\n",
    "kmeans_df = user_ratings_df[['user_id', 'movie_id', 'rating']].sort_values(by='movie_id')\n",
    "kmeans_df"
   ]
  },
  {
   "cell_type": "markdown",
   "id": "68b63fad-ebac-4dc5-a7d9-0e2a00ced070",
   "metadata": {},
   "source": [
    "---\n",
    "### Prepare the data:\n",
    "*Note:* In order for the Kmeans algo to work properly, we need to have all movies as columns and all users as rows. However, the dataframe is too big, which leads to int32 overflow errors. So below we had to cut the dataframe in thirds in order for my machine to be able to run it. We only produced output for the bottom third of all movies to check against the moviegeeks output."
   ]
  },
  {
   "cell_type": "code",
   "execution_count": 45,
   "id": "8a676a4d-0a39-4c5c-a652-e5e142156c28",
   "metadata": {},
   "outputs": [],
   "source": [
    "# kmeans_df.pivot_table(index='user_id', columns='movie_id', values='rating')\n",
    "df1 = kmeans_df[:300000]\n",
    "df1_pivot = df1.pivot_table(index='user_id', columns='movie_id', values='rating')"
   ]
  },
  {
   "cell_type": "markdown",
   "id": "e1ff35a7-f61b-4e77-a1d1-3de31841740e",
   "metadata": {},
   "source": [
    "---\n",
    "### Defining the kmeans function with initialization as k-means++"
   ]
  },
  {
   "cell_type": "code",
   "execution_count": 46,
   "id": "39841d91-d598-4f69-a97a-909276c7f611",
   "metadata": {},
   "outputs": [],
   "source": [
    "kmeans = KMeans(n_clusters=22, init='k-means++')"
   ]
  },
  {
   "cell_type": "markdown",
   "id": "bfc2a327-c490-4513-a99b-65a7931e78cb",
   "metadata": {},
   "source": [
    "---\n",
    "### Fitting the k means algorithm on data:"
   ]
  },
  {
   "cell_type": "code",
   "execution_count": 51,
   "id": "80ae0710-3417-4f4e-814e-298b458ade68",
   "metadata": {},
   "outputs": [
    {
     "data": {
      "text/plain": [
       "KMeans(n_clusters=22)"
      ]
     },
     "execution_count": 51,
     "metadata": {},
     "output_type": "execute_result"
    }
   ],
   "source": [
    "# fill nas with zeroes:\n",
    "df1_pivot.fillna(0, inplace=True)\n",
    "kmeans.fit(df1_pivot)"
   ]
  },
  {
   "cell_type": "markdown",
   "id": "2df019e9-1d91-406d-a46f-569f466f8557",
   "metadata": {},
   "source": [
    "---\n",
    "### Predict and show clusters:"
   ]
  },
  {
   "cell_type": "code",
   "execution_count": 42,
   "id": "37299bb6-805c-4d1c-8292-77b752176e49",
   "metadata": {},
   "outputs": [],
   "source": [
    "pred = kmeans.predict(df1_pivot)"
   ]
  },
  {
   "cell_type": "code",
   "execution_count": 44,
   "id": "8e72765b-9ff6-4ba9-85a8-82a9af3df429",
   "metadata": {},
   "outputs": [
    {
     "data": {
      "text/plain": [
       "1     27770\n",
       "9      1827\n",
       "0      1577\n",
       "15     1476\n",
       "2       972\n",
       "4       925\n",
       "16      816\n",
       "14      750\n",
       "3       667\n",
       "19      631\n",
       "5       271\n",
       "11      270\n",
       "12       67\n",
       "21       55\n",
       "13        3\n",
       "17        1\n",
       "18        1\n",
       "8         1\n",
       "10        1\n",
       "7         1\n",
       "20        1\n",
       "6         1\n",
       "Name: cluster, dtype: int64"
      ]
     },
     "execution_count": 44,
     "metadata": {},
     "output_type": "execute_result"
    }
   ],
   "source": [
    "frame = pd.DataFrame(df1_pivot)\n",
    "frame['cluster'] = pred\n",
    "frame['cluster'].value_counts()"
   ]
  },
  {
   "cell_type": "markdown",
   "id": "0ae90eca-4716-4e76-9371-d95f07581857",
   "metadata": {},
   "source": [
    "---\n",
    "See the following for a quick refresher on Kmeans implemetation: https://www.analyticsvidhya.com/blog/2019/08/comprehensive-guide-k-means-clustering/"
   ]
  },
  {
   "cell_type": "code",
   "execution_count": null,
   "id": "0a6df6d7-17ba-4ca0-b4be-727b8f9f64cd",
   "metadata": {},
   "outputs": [],
   "source": []
  }
 ],
 "metadata": {
  "kernelspec": {
   "display_name": "Python 3 (ipykernel)",
   "language": "python",
   "name": "python3"
  },
  "language_info": {
   "codemirror_mode": {
    "name": "ipython",
    "version": 3
   },
   "file_extension": ".py",
   "mimetype": "text/x-python",
   "name": "python",
   "nbconvert_exporter": "python",
   "pygments_lexer": "ipython3",
   "version": "3.7.9"
  }
 },
 "nbformat": 4,
 "nbformat_minor": 5
}
